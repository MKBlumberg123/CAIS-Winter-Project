{
  "nbformat": 4,
  "nbformat_minor": 0,
  "metadata": {
    "colab": {
      "provenance": [],
      "gpuType": "T4"
    },
    "kernelspec": {
      "name": "python3",
      "display_name": "Python 3"
    },
    "language_info": {
      "name": "python"
    },
    "accelerator": "GPU"
  },
  "cells": [
    {
      "cell_type": "markdown",
      "source": [
        "## **Project Description**"
      ],
      "metadata": {
        "id": "QRXmRtgwywRM"
      }
    },
    {
      "cell_type": "markdown",
      "source": [
        "**Description:** This notebook trains and tests a data set to recognize emotions from a dataset of faces. There are seven categories of facial expression (0=Angry, 1=Disgust, 2=Fear, 3=Happy, 4=Sad, 5=Surprise, 6=Neutral).\n",
        "\n",
        "The data set that I am using is the FER-2013 dataset, which consists of 48x48 pixel grayscale images of faces.\n",
        "The training set consists of 28,709 images, and the test set consists of 3,589 images.\n"
      ],
      "metadata": {
        "id": "jN6FTmrzx-as"
      }
    },
    {
      "cell_type": "markdown",
      "source": [
        "##**Environment Setup**\n",
        "\n",
        "my collab was being weird so i added this to fix it :)"
      ],
      "metadata": {
        "id": "zG_o5BGGzBAR"
      }
    },
    {
      "cell_type": "code",
      "source": [
        "pip uninstall torch torchvision torchaudio -y"
      ],
      "metadata": {
        "colab": {
          "base_uri": "https://localhost:8080/"
        },
        "id": "INIpwM2xAlBL",
        "outputId": "c8a0acf6-93b6-46c4-96ee-1e81fafaeda0"
      },
      "execution_count": null,
      "outputs": [
        {
          "output_type": "stream",
          "name": "stdout",
          "text": [
            "Found existing installation: torch 2.5.1+cu121\n",
            "Uninstalling torch-2.5.1+cu121:\n",
            "  Successfully uninstalled torch-2.5.1+cu121\n",
            "Found existing installation: torchvision 0.20.1+cu121\n",
            "Uninstalling torchvision-0.20.1+cu121:\n",
            "  Successfully uninstalled torchvision-0.20.1+cu121\n",
            "Found existing installation: torchaudio 2.5.1+cu121\n",
            "Uninstalling torchaudio-2.5.1+cu121:\n",
            "  Successfully uninstalled torchaudio-2.5.1+cu121\n"
          ]
        }
      ]
    },
    {
      "cell_type": "code",
      "source": [
        "pip install torch torchvision torchaudio --index-url https://download.pytorch.org/whl/cu121"
      ],
      "metadata": {
        "colab": {
          "base_uri": "https://localhost:8080/"
        },
        "id": "fk62ovhxAp2A",
        "outputId": "b5173558-1f36-464b-c5ac-b26ea1951306"
      },
      "execution_count": null,
      "outputs": [
        {
          "output_type": "stream",
          "name": "stdout",
          "text": [
            "Looking in indexes: https://download.pytorch.org/whl/cu121\n",
            "Collecting torch\n",
            "  Downloading https://download.pytorch.org/whl/cu121/torch-2.5.1%2Bcu121-cp311-cp311-linux_x86_64.whl (780.5 MB)\n",
            "\u001b[2K     \u001b[90m━━━━━━━━━━━━━━━━━━━━━━━━━━━━━━━━━━━━━━━━\u001b[0m \u001b[32m780.5/780.5 MB\u001b[0m \u001b[31m2.3 MB/s\u001b[0m eta \u001b[36m0:00:00\u001b[0m\n",
            "\u001b[?25hCollecting torchvision\n",
            "  Downloading https://download.pytorch.org/whl/cu121/torchvision-0.20.1%2Bcu121-cp311-cp311-linux_x86_64.whl (7.3 MB)\n",
            "\u001b[2K     \u001b[90m━━━━━━━━━━━━━━━━━━━━━━━━━━━━━━━━━━━━━━━━\u001b[0m \u001b[32m7.3/7.3 MB\u001b[0m \u001b[31m73.0 MB/s\u001b[0m eta \u001b[36m0:00:00\u001b[0m\n",
            "\u001b[?25hCollecting torchaudio\n",
            "  Downloading https://download.pytorch.org/whl/cu121/torchaudio-2.5.1%2Bcu121-cp311-cp311-linux_x86_64.whl (3.4 MB)\n",
            "\u001b[2K     \u001b[90m━━━━━━━━━━━━━━━━━━━━━━━━━━━━━━━━━━━━━━━━\u001b[0m \u001b[32m3.4/3.4 MB\u001b[0m \u001b[31m13.7 MB/s\u001b[0m eta \u001b[36m0:00:00\u001b[0m\n",
            "\u001b[?25hRequirement already satisfied: filelock in /usr/local/lib/python3.11/dist-packages (from torch) (3.16.1)\n",
            "Requirement already satisfied: typing-extensions>=4.8.0 in /usr/local/lib/python3.11/dist-packages (from torch) (4.12.2)\n",
            "Requirement already satisfied: networkx in /usr/local/lib/python3.11/dist-packages (from torch) (3.4.2)\n",
            "Requirement already satisfied: jinja2 in /usr/local/lib/python3.11/dist-packages (from torch) (3.1.5)\n",
            "Requirement already satisfied: fsspec in /usr/local/lib/python3.11/dist-packages (from torch) (2024.10.0)\n",
            "Requirement already satisfied: nvidia-cuda-nvrtc-cu12==12.1.105 in /usr/local/lib/python3.11/dist-packages (from torch) (12.1.105)\n",
            "Requirement already satisfied: nvidia-cuda-runtime-cu12==12.1.105 in /usr/local/lib/python3.11/dist-packages (from torch) (12.1.105)\n",
            "Requirement already satisfied: nvidia-cuda-cupti-cu12==12.1.105 in /usr/local/lib/python3.11/dist-packages (from torch) (12.1.105)\n",
            "Requirement already satisfied: nvidia-cudnn-cu12==9.1.0.70 in /usr/local/lib/python3.11/dist-packages (from torch) (9.1.0.70)\n",
            "Requirement already satisfied: nvidia-cublas-cu12==12.1.3.1 in /usr/local/lib/python3.11/dist-packages (from torch) (12.1.3.1)\n",
            "Requirement already satisfied: nvidia-cufft-cu12==11.0.2.54 in /usr/local/lib/python3.11/dist-packages (from torch) (11.0.2.54)\n",
            "Requirement already satisfied: nvidia-curand-cu12==10.3.2.106 in /usr/local/lib/python3.11/dist-packages (from torch) (10.3.2.106)\n",
            "Requirement already satisfied: nvidia-cusolver-cu12==11.4.5.107 in /usr/local/lib/python3.11/dist-packages (from torch) (11.4.5.107)\n",
            "Requirement already satisfied: nvidia-cusparse-cu12==12.1.0.106 in /usr/local/lib/python3.11/dist-packages (from torch) (12.1.0.106)\n",
            "Requirement already satisfied: nvidia-nccl-cu12==2.21.5 in /usr/local/lib/python3.11/dist-packages (from torch) (2.21.5)\n",
            "Requirement already satisfied: nvidia-nvtx-cu12==12.1.105 in /usr/local/lib/python3.11/dist-packages (from torch) (12.1.105)\n",
            "Requirement already satisfied: triton==3.1.0 in /usr/local/lib/python3.11/dist-packages (from torch) (3.1.0)\n",
            "Requirement already satisfied: sympy==1.13.1 in /usr/local/lib/python3.11/dist-packages (from torch) (1.13.1)\n",
            "Requirement already satisfied: nvidia-nvjitlink-cu12 in /usr/local/lib/python3.11/dist-packages (from nvidia-cusolver-cu12==11.4.5.107->torch) (12.6.85)\n",
            "Requirement already satisfied: mpmath<1.4,>=1.1.0 in /usr/local/lib/python3.11/dist-packages (from sympy==1.13.1->torch) (1.3.0)\n",
            "Requirement already satisfied: numpy in /usr/local/lib/python3.11/dist-packages (from torchvision) (1.26.4)\n",
            "Requirement already satisfied: pillow!=8.3.*,>=5.3.0 in /usr/local/lib/python3.11/dist-packages (from torchvision) (11.1.0)\n",
            "Requirement already satisfied: MarkupSafe>=2.0 in /usr/local/lib/python3.11/dist-packages (from jinja2->torch) (3.0.2)\n",
            "Installing collected packages: torch, torchvision, torchaudio\n",
            "Successfully installed torch-2.5.1+cu121 torchaudio-2.5.1+cu121 torchvision-0.20.1+cu121\n"
          ]
        }
      ]
    },
    {
      "cell_type": "code",
      "source": [
        "import torch\n",
        "\n",
        "# Check PyTorch version\n",
        "print(\"PyTorch Version:\", torch.__version__)\n",
        "\n",
        "# Check CUDA availability and version\n",
        "print(\"CUDA Available:\", torch.cuda.is_available())\n",
        "print(\"CUDA Version:\", torch.version.cuda)\n",
        "\n",
        "# Check GPU\n",
        "if torch.cuda.is_available():\n",
        "    print(\"GPU Device Name:\", torch.cuda.get_device_name(0))"
      ],
      "metadata": {
        "colab": {
          "base_uri": "https://localhost:8080/"
        },
        "id": "mEbXlRnTBCMk",
        "outputId": "f30ba6ba-801c-470e-bb8d-57215965947d"
      },
      "execution_count": null,
      "outputs": [
        {
          "output_type": "stream",
          "name": "stdout",
          "text": [
            "PyTorch Version: 2.5.1+cu121\n",
            "CUDA Available: True\n",
            "CUDA Version: 12.1\n",
            "GPU Device Name: Tesla T4\n"
          ]
        }
      ]
    },
    {
      "cell_type": "markdown",
      "source": [
        "## **Loading Data**\n"
      ],
      "metadata": {
        "id": "Ms46XfSMAX5i"
      }
    },
    {
      "cell_type": "markdown",
      "source": [
        "This section imports necessary modules and imports the FER-13 Dataset from Kaggle. It sets up the train and test datasets and converts all of the data to tensors."
      ],
      "metadata": {
        "id": "dEXowtBm9Hfn"
      }
    },
    {
      "cell_type": "code",
      "execution_count": 1,
      "metadata": {
        "id": "8POH9oUGmzko"
      },
      "outputs": [],
      "source": [
        "# Importing necessary modules\n",
        "import os\n",
        "import numpy as np\n",
        "import pandas as pd\n",
        "from PIL import Image\n",
        "import matplotlib.pyplot as plt\n",
        "from torch.utils.data import Dataset, DataLoader\n",
        "import cv2\n",
        "import random\n",
        "import torch\n",
        "import torchvision\n",
        "import torchvision.transforms as transforms\n",
        "import kagglehub"
      ]
    },
    {
      "cell_type": "code",
      "source": [
        "# Importing kaggle path\n",
        "path = kagglehub.dataset_download(\"msambare/fer2013\")\n",
        "\n",
        "print(\"Path to dataset files:\", path)"
      ],
      "metadata": {
        "id": "f39xnQgx6DJ3",
        "colab": {
          "base_uri": "https://localhost:8080/"
        },
        "outputId": "f67407b5-b543-4ba2-9ff1-17654113084b"
      },
      "execution_count": 2,
      "outputs": [
        {
          "output_type": "stream",
          "name": "stdout",
          "text": [
            "Downloading from https://www.kaggle.com/api/v1/datasets/download/msambare/fer2013?dataset_version_number=1...\n"
          ]
        },
        {
          "output_type": "stream",
          "name": "stderr",
          "text": [
            "100%|██████████| 60.3M/60.3M [00:00<00:00, 97.1MB/s]"
          ]
        },
        {
          "output_type": "stream",
          "name": "stdout",
          "text": [
            "Extracting files...\n"
          ]
        },
        {
          "output_type": "stream",
          "name": "stderr",
          "text": [
            "\n"
          ]
        },
        {
          "output_type": "stream",
          "name": "stdout",
          "text": [
            "Path to dataset files: /root/.cache/kagglehub/datasets/msambare/fer2013/versions/1\n"
          ]
        }
      ]
    },
    {
      "cell_type": "code",
      "source": [
        "# Load FER-2013 dataset\n",
        "train_dir = os.path.join(path, \"train\")\n",
        "test_dir = os.path.join(path, \"test\")"
      ],
      "metadata": {
        "id": "bnGxvdFx7u10"
      },
      "execution_count": 3,
      "outputs": []
    },
    {
      "cell_type": "code",
      "source": [
        "# Defining transformations for grayscale images\n",
        "transform = transforms.Compose([\n",
        "    transforms.Grayscale(num_output_channels=1),  # Ensure images are grayscale\n",
        "    transforms.Resize((48, 48)),                 # Resize if needed\n",
        "    transforms.ToTensor(),\n",
        "    transforms.Normalize((0.5,), (0.5,))\n",
        "])"
      ],
      "metadata": {
        "id": "GZ_BY08a8BCb"
      },
      "execution_count": 4,
      "outputs": []
    },
    {
      "cell_type": "code",
      "source": [
        "# Custom Dataset Class\n",
        "class FER2013Dataset(Dataset):\n",
        "    def __init__(self, root_dir, transform=None):\n",
        "        self.root_dir = root_dir\n",
        "        self.transform = transform\n",
        "        self.data = []\n",
        "        self.labels = []\n",
        "        self.classes = sorted(os.listdir(root_dir))  # Assuming subdirectories are class names\n",
        "\n",
        "        # Load images and labels\n",
        "        for label, class_name in enumerate(self.classes):\n",
        "            class_dir = os.path.join(root_dir, class_name)\n",
        "            for img_name in os.listdir(class_dir):\n",
        "                img_path = os.path.join(class_dir, img_name)\n",
        "                self.data.append(img_path)\n",
        "                self.labels.append(label)\n",
        "\n",
        "    def __len__(self):\n",
        "        return len(self.data)\n",
        "\n",
        "    def __getitem__(self, idx):\n",
        "        img_path = self.data[idx]\n",
        "        label = self.labels[idx]\n",
        "        image = Image.open(img_path)\n",
        "        if self.transform:\n",
        "            image = self.transform(image)\n",
        "        return image, label"
      ],
      "metadata": {
        "id": "5OnNh5ez8J0r"
      },
      "execution_count": 5,
      "outputs": []
    },
    {
      "cell_type": "code",
      "source": [
        "# Create datasets and dataloaders\n",
        "batch_size = 64\n",
        "\n",
        "trainset = FER2013Dataset(train_dir, transform=transform)\n",
        "trainloader = DataLoader(trainset, batch_size=batch_size, shuffle=True, num_workers=2)\n",
        "\n",
        "testset = FER2013Dataset(test_dir, transform=transform)\n",
        "testloader = DataLoader(testset, batch_size=batch_size, shuffle=False, num_workers=2)\n",
        "\n",
        "# Define class names\n",
        "classes = sorted(os.listdir(train_dir))"
      ],
      "metadata": {
        "id": "8f-IyIqi8oRJ"
      },
      "execution_count": 6,
      "outputs": []
    },
    {
      "cell_type": "code",
      "source": [
        "# Visualize some images\n",
        "def imshow(img):\n",
        "    img = img / 2 + 0.5  # Unnormalize\n",
        "    npimg = img.numpy()\n",
        "    plt.imshow(np.transpose(npimg, (1, 2, 0)), cmap='gray')\n",
        "    plt.show()\n",
        "\n",
        "dataiter = iter(trainloader)\n",
        "images, labels = next(dataiter)\n",
        "images = images[:4]\n",
        "\n",
        "# Show images\n",
        "imshow(torchvision.utils.make_grid(images))\n",
        "print(' '.join(f'{classes[labels[j]]:5s}' for j in range(4)))"
      ],
      "metadata": {
        "id": "FBE-bTsO8zwb",
        "colab": {
          "base_uri": "https://localhost:8080/",
          "height": 209
        },
        "outputId": "53be8f56-92af-4e87-c253-08b83544d27c"
      },
      "execution_count": 7,
      "outputs": [
        {
          "output_type": "display_data",
          "data": {
            "text/plain": [
              "<Figure size 640x480 with 1 Axes>"
            ],
            "image/png": "[encoded data removed]"
          },
          "metadata": {}
        },
        {
          "output_type": "stream",
          "name": "stdout",
          "text": [
            "neutral neutral angry sad  \n"
          ]
        }
      ]
    },
    {
      "cell_type": "markdown",
      "source": [
        "## **Defining the CNN**\n",
        "\n",
        "This code defines a CNN with four convolutional layers (each followed by batch normalization, ReLU activation, and max-pooling), a dropout layer to prevent overfitting, and three fully connected layers for classification. The network is uses cross-entropy loss for optimization and the Adam optimizer to train the model."
      ],
      "metadata": {
        "id": "ArCHnfB69Q9Z"
      }
    },
    {
      "cell_type": "code",
      "source": [
        "import torch.nn as nn\n",
        "import torch.nn.functional as F\n",
        "import torch.optim as optim\n",
        "\n",
        "class Net(nn.Module):\n",
        "    def __init__(self):\n",
        "        super().__init__()\n",
        "        self.conv1 = nn.Conv2d(1, 64, kernel_size=3, padding=1)\n",
        "        self.bn1 = nn.BatchNorm2d(64)\n",
        "        self.conv2 = nn.Conv2d(64, 128, kernel_size=3, padding=1)\n",
        "        self.bn2 = nn.BatchNorm2d(128)\n",
        "        self.conv3 = nn.Conv2d(128, 256, kernel_size=3, padding=1)\n",
        "        self.bn3 = nn.BatchNorm2d(256)\n",
        "        self.conv4 = nn.Conv2d(256, 512, kernel_size=3, padding=1)\n",
        "        self.bn4 = nn.BatchNorm2d(512)\n",
        "        self.pool = nn.MaxPool2d(kernel_size=2, stride=2)\n",
        "        self.dropout = nn.Dropout(0.5)\n",
        "        self.fc1 = nn.Linear(512 * 3 * 3, 512)\n",
        "        self.fc2 = nn.Linear(512, 256)\n",
        "        self.fc3 = nn.Linear(256, len(classes))\n",
        "\n",
        "    def forward(self, x):\n",
        "        x = self.pool(F.relu(self.bn1(self.conv1(x))))\n",
        "        x = self.pool(F.relu(self.bn2(self.conv2(x))))\n",
        "        x = self.pool(F.relu(self.bn3(self.conv3(x))))\n",
        "        x = self.pool(F.relu(self.bn4(self.conv4(x))))\n",
        "        x = torch.flatten(x, 1)\n",
        "        x = F.relu(self.fc1(x))\n",
        "        x = self.dropout(x)\n",
        "        x = F.relu(self.fc2(x))\n",
        "        x = self.fc3(x)\n",
        "        return x\n",
        "\n",
        "\n",
        "net = Net()"
      ],
      "metadata": {
        "id": "C3U8Zr6sn6so"
      },
      "execution_count": 8,
      "outputs": []
    },
    {
      "cell_type": "code",
      "source": [
        "loss_function = nn.CrossEntropyLoss()\n",
        "optimizer = torch.optim.Adam(net.parameters())"
      ],
      "metadata": {
        "id": "wRyD5pN29NB9"
      },
      "execution_count": 9,
      "outputs": []
    },
    {
      "cell_type": "code",
      "source": [
        "loss_list = []"
      ],
      "metadata": {
        "id": "viPEf8rVaGVH"
      },
      "execution_count": 12,
      "outputs": []
    },
    {
      "cell_type": "markdown",
      "source": [
        "## **Training the CNN**"
      ],
      "metadata": {
        "id": "lnpwl4WTA71E"
      }
    },
    {
      "cell_type": "code",
      "source": [
        "# Training the CNN\n",
        "num_epochs = 15\n",
        "total_steps = len(trainloader)\n",
        "for epoch in range(num_epochs):\n",
        "    running_loss = 0.0\n",
        "    for i, data in enumerate(trainloader, 0):\n",
        "        inputs, labels = data\n",
        "        outputs = net(inputs)\n",
        "        loss = loss_function(outputs, labels)\n",
        "\n",
        "        optimizer.zero_grad()\n",
        "        loss.backward()\n",
        "        optimizer.step()\n",
        "\n",
        "        running_loss += loss.item()\n",
        "        if i % 10 == 9:\n",
        "            print(f'[{epoch + 1}, {i + 1:5d}] loss: {running_loss / 10:.3f}')\n",
        "            loss_list.append(running_loss / 10)\n",
        "            running_loss = 0.0\n",
        "\n",
        "print('Finished Training')"
      ],
      "metadata": {
        "colab": {
          "base_uri": "https://localhost:8080/"
        },
        "id": "w_xAcq8x9IhK",
        "outputId": "8afa0873-2233-4975-ddd3-5fabd1a828b9"
      },
      "execution_count": 13,
      "outputs": [
        {
          "output_type": "stream",
          "name": "stdout",
          "text": [
            "[1,    10] loss: 1.828\n",
            "[1,    20] loss: 1.803\n",
            "[1,    30] loss: 1.772\n",
            "[1,    40] loss: 1.808\n",
            "[1,    50] loss: 1.790\n",
            "[1,    60] loss: 1.763\n",
            "[1,    70] loss: 1.826\n",
            "[1,    80] loss: 1.789\n",
            "[1,    90] loss: 1.755\n",
            "[1,   100] loss: 1.759\n",
            "[1,   110] loss: 1.774\n",
            "[1,   120] loss: 1.733\n",
            "[1,   130] loss: 1.747\n",
            "[1,   140] loss: 1.697\n",
            "[1,   150] loss: 1.650\n",
            "[1,   160] loss: 1.684\n",
            "[1,   170] loss: 1.616\n",
            "[1,   180] loss: 1.693\n",
            "[1,   190] loss: 1.664\n",
            "[1,   200] loss: 1.584\n",
            "[1,   210] loss: 1.652\n",
            "[1,   220] loss: 1.626\n",
            "[1,   230] loss: 1.569\n",
            "[1,   240] loss: 1.518\n",
            "[1,   250] loss: 1.626\n",
            "[1,   260] loss: 1.570\n",
            "[1,   270] loss: 1.651\n",
            "[1,   280] loss: 1.550\n",
            "[1,   290] loss: 1.524\n",
            "[1,   300] loss: 1.526\n",
            "[1,   310] loss: 1.481\n",
            "[1,   320] loss: 1.503\n",
            "[1,   330] loss: 1.531\n",
            "[1,   340] loss: 1.508\n",
            "[1,   350] loss: 1.437\n",
            "[1,   360] loss: 1.529\n",
            "[1,   370] loss: 1.579\n",
            "[1,   380] loss: 1.537\n",
            "[1,   390] loss: 1.506\n",
            "[1,   400] loss: 1.467\n",
            "[1,   410] loss: 1.489\n",
            "[1,   420] loss: 1.475\n",
            "[1,   430] loss: 1.491\n",
            "[1,   440] loss: 1.467\n",
            "[2,    10] loss: 1.440\n",
            "[2,    20] loss: 1.415\n",
            "[2,    30] loss: 1.428\n",
            "[2,    40] loss: 1.415\n",
            "[2,    50] loss: 1.418\n",
            "[2,    60] loss: 1.407\n",
            "[2,    70] loss: 1.409\n",
            "[2,    80] loss: 1.458\n",
            "[2,    90] loss: 1.416\n",
            "[2,   100] loss: 1.436\n",
            "[2,   110] loss: 1.368\n",
            "[2,   120] loss: 1.441\n",
            "[2,   130] loss: 1.437\n",
            "[2,   140] loss: 1.371\n",
            "[2,   150] loss: 1.387\n",
            "[2,   160] loss: 1.345\n",
            "[2,   170] loss: 1.441\n",
            "[2,   180] loss: 1.404\n",
            "[2,   190] loss: 1.458\n",
            "[2,   200] loss: 1.382\n",
            "[2,   210] loss: 1.383\n",
            "[2,   220] loss: 1.393\n",
            "[2,   230] loss: 1.311\n",
            "[2,   240] loss: 1.353\n",
            "[2,   250] loss: 1.367\n",
            "[2,   260] loss: 1.378\n",
            "[2,   270] loss: 1.351\n",
            "[2,   280] loss: 1.325\n",
            "[2,   290] loss: 1.369\n",
            "[2,   300] loss: 1.414\n",
            "[2,   310] loss: 1.394\n",
            "[2,   320] loss: 1.400\n",
            "[2,   330] loss: 1.332\n",
            "[2,   340] loss: 1.306\n",
            "[2,   350] loss: 1.390\n",
            "[2,   360] loss: 1.348\n",
            "[2,   370] loss: 1.350\n",
            "[2,   380] loss: 1.354\n",
            "[2,   390] loss: 1.389\n",
            "[2,   400] loss: 1.317\n",
            "[2,   410] loss: 1.378\n",
            "[2,   420] loss: 1.378\n",
            "[2,   430] loss: 1.321\n",
            "[2,   440] loss: 1.333\n",
            "[3,    10] loss: 1.263\n",
            "[3,    20] loss: 1.289\n",
            "[3,    30] loss: 1.312\n",
            "[3,    40] loss: 1.300\n",
            "[3,    50] loss: 1.267\n",
            "[3,    60] loss: 1.302\n",
            "[3,    70] loss: 1.330\n",
            "[3,    80] loss: 1.354\n",
            "[3,    90] loss: 1.240\n",
            "[3,   100] loss: 1.294\n",
            "[3,   110] loss: 1.236\n",
            "[3,   120] loss: 1.303\n",
            "[3,   130] loss: 1.362\n",
            "[3,   140] loss: 1.278\n",
            "[3,   150] loss: 1.220\n",
            "[3,   160] loss: 1.334\n",
            "[3,   170] loss: 1.270\n",
            "[3,   180] loss: 1.278\n",
            "[3,   190] loss: 1.261\n",
            "[3,   200] loss: 1.262\n",
            "[3,   210] loss: 1.325\n",
            "[3,   220] loss: 1.236\n",
            "[3,   230] loss: 1.204\n",
            "[3,   240] loss: 1.311\n",
            "[3,   250] loss: 1.321\n",
            "[3,   260] loss: 1.279\n",
            "[3,   270] loss: 1.213\n",
            "[3,   280] loss: 1.255\n",
            "[3,   290] loss: 1.329\n",
            "[3,   300] loss: 1.254\n",
            "[3,   310] loss: 1.370\n",
            "[3,   320] loss: 1.315\n",
            "[3,   330] loss: 1.260\n",
            "[3,   340] loss: 1.241\n",
            "[3,   350] loss: 1.243\n",
            "[3,   360] loss: 1.248\n",
            "[3,   370] loss: 1.177\n",
            "[3,   380] loss: 1.262\n",
            "[3,   390] loss: 1.243\n",
            "[3,   400] loss: 1.198\n",
            "[3,   410] loss: 1.277\n",
            "[3,   420] loss: 1.245\n",
            "[3,   430] loss: 1.293\n",
            "[3,   440] loss: 1.270\n",
            "[4,    10] loss: 1.221\n",
            "[4,    20] loss: 1.175\n",
            "[4,    30] loss: 1.236\n",
            "[4,    40] loss: 1.217\n",
            "[4,    50] loss: 1.192\n",
            "[4,    60] loss: 1.190\n",
            "[4,    70] loss: 1.176\n",
            "[4,    80] loss: 1.234\n",
            "[4,    90] loss: 1.268\n",
            "[4,   100] loss: 1.169\n",
            "[4,   110] loss: 1.216\n",
            "[4,   120] loss: 1.216\n",
            "[4,   130] loss: 1.215\n",
            "[4,   140] loss: 1.179\n",
            "[4,   150] loss: 1.160\n",
            "[4,   160] loss: 1.184\n",
            "[4,   170] loss: 1.164\n",
            "[4,   180] loss: 1.243\n",
            "[4,   190] loss: 1.191\n",
            "[4,   200] loss: 1.205\n",
            "[4,   210] loss: 1.198\n",
            "[4,   220] loss: 1.199\n",
            "[4,   230] loss: 1.190\n",
            "[4,   240] loss: 1.174\n",
            "[4,   250] loss: 1.239\n",
            "[4,   260] loss: 1.159\n",
            "[4,   270] loss: 1.190\n",
            "[4,   280] loss: 1.223\n",
            "[4,   290] loss: 1.161\n",
            "[4,   300] loss: 1.238\n",
            "[4,   310] loss: 1.195\n",
            "[4,   320] loss: 1.183\n",
            "[4,   330] loss: 1.207\n",
            "[4,   340] loss: 1.195\n",
            "[4,   350] loss: 1.207\n",
            "[4,   360] loss: 1.143\n",
            "[4,   370] loss: 1.107\n",
            "[4,   380] loss: 1.128\n",
            "[4,   390] loss: 1.170\n",
            "[4,   400] loss: 1.173\n",
            "[4,   410] loss: 1.159\n",
            "[4,   420] loss: 1.189\n",
            "[4,   430] loss: 1.117\n",
            "[4,   440] loss: 1.182\n",
            "[5,    10] loss: 1.178\n",
            "[5,    20] loss: 1.146\n",
            "[5,    30] loss: 1.066\n",
            "[5,    40] loss: 1.083\n",
            "[5,    50] loss: 1.099\n",
            "[5,    60] loss: 1.052\n",
            "[5,    70] loss: 1.061\n",
            "[5,    80] loss: 1.121\n",
            "[5,    90] loss: 1.155\n",
            "[5,   100] loss: 1.080\n",
            "[5,   110] loss: 1.161\n",
            "[5,   120] loss: 1.143\n",
            "[5,   130] loss: 1.092\n",
            "[5,   140] loss: 1.071\n",
            "[5,   150] loss: 1.147\n",
            "[5,   160] loss: 1.188\n",
            "[5,   170] loss: 1.200\n",
            "[5,   180] loss: 1.053\n",
            "[5,   190] loss: 1.101\n",
            "[5,   200] loss: 1.142\n",
            "[5,   210] loss: 1.093\n",
            "[5,   220] loss: 1.102\n",
            "[5,   230] loss: 1.153\n",
            "[5,   240] loss: 1.211\n",
            "[5,   250] loss: 1.134\n",
            "[5,   260] loss: 1.148\n",
            "[5,   270] loss: 1.105\n",
            "[5,   280] loss: 1.113\n",
            "[5,   290] loss: 1.111\n",
            "[5,   300] loss: 1.105\n",
            "[5,   310] loss: 1.092\n",
            "[5,   320] loss: 1.081\n",
            "[5,   330] loss: 1.144\n",
            "[5,   340] loss: 1.062\n",
            "[5,   350] loss: 1.158\n",
            "[5,   360] loss: 1.033\n",
            "[5,   370] loss: 1.104\n",
            "[5,   380] loss: 1.124\n",
            "[5,   390] loss: 1.209\n",
            "[5,   400] loss: 1.122\n",
            "[5,   410] loss: 1.075\n",
            "[5,   420] loss: 1.125\n",
            "[5,   430] loss: 1.096\n",
            "[5,   440] loss: 1.108\n",
            "[6,    10] loss: 1.065\n",
            "[6,    20] loss: 0.981\n",
            "[6,    30] loss: 0.989\n",
            "[6,    40] loss: 1.002\n",
            "[6,    50] loss: 1.082\n",
            "[6,    60] loss: 0.938\n",
            "[6,    70] loss: 1.001\n",
            "[6,    80] loss: 1.052\n",
            "[6,    90] loss: 1.018\n",
            "[6,   100] loss: 1.058\n",
            "[6,   110] loss: 1.071\n",
            "[6,   120] loss: 1.065\n",
            "[6,   130] loss: 1.014\n",
            "[6,   140] loss: 1.047\n",
            "[6,   150] loss: 0.998\n",
            "[6,   160] loss: 1.064\n",
            "[6,   170] loss: 1.001\n",
            "[6,   180] loss: 1.082\n",
            "[6,   190] loss: 1.103\n",
            "[6,   200] loss: 1.014\n",
            "[6,   210] loss: 1.085\n",
            "[6,   220] loss: 1.016\n",
            "[6,   230] loss: 1.074\n",
            "[6,   240] loss: 1.030\n",
            "[6,   250] loss: 1.049\n",
            "[6,   260] loss: 1.099\n",
            "[6,   270] loss: 1.075\n",
            "[6,   280] loss: 1.114\n",
            "[6,   290] loss: 1.048\n",
            "[6,   300] loss: 1.086\n",
            "[6,   310] loss: 1.044\n",
            "[6,   320] loss: 1.165\n",
            "[6,   330] loss: 1.090\n",
            "[6,   340] loss: 1.035\n",
            "[6,   350] loss: 1.021\n",
            "[6,   360] loss: 1.134\n",
            "[6,   370] loss: 1.042\n",
            "[6,   380] loss: 1.020\n",
            "[6,   390] loss: 1.045\n",
            "[6,   400] loss: 0.993\n",
            "[6,   410] loss: 0.978\n",
            "[6,   420] loss: 0.979\n",
            "[6,   430] loss: 1.032\n",
            "[6,   440] loss: 1.059\n",
            "[7,    10] loss: 0.972\n",
            "[7,    20] loss: 0.935\n",
            "[7,    30] loss: 0.957\n",
            "[7,    40] loss: 0.886\n",
            "[7,    50] loss: 0.949\n",
            "[7,    60] loss: 0.935\n",
            "[7,    70] loss: 0.985\n",
            "[7,    80] loss: 0.977\n",
            "[7,    90] loss: 0.934\n",
            "[7,   100] loss: 0.993\n",
            "[7,   110] loss: 0.929\n",
            "[7,   120] loss: 0.911\n",
            "[7,   130] loss: 1.013\n",
            "[7,   140] loss: 0.942\n",
            "[7,   150] loss: 0.962\n",
            "[7,   160] loss: 0.956\n",
            "[7,   170] loss: 0.919\n",
            "[7,   180] loss: 1.039\n",
            "[7,   190] loss: 0.980\n",
            "[7,   200] loss: 1.043\n",
            "[7,   210] loss: 0.987\n",
            "[7,   220] loss: 1.032\n",
            "[7,   230] loss: 0.992\n",
            "[7,   240] loss: 0.957\n",
            "[7,   250] loss: 1.027\n",
            "[7,   260] loss: 0.942\n",
            "[7,   270] loss: 0.967\n",
            "[7,   280] loss: 0.985\n",
            "[7,   290] loss: 0.949\n",
            "[7,   300] loss: 1.013\n",
            "[7,   310] loss: 0.953\n",
            "[7,   320] loss: 0.919\n",
            "[7,   330] loss: 1.001\n",
            "[7,   340] loss: 0.999\n",
            "[7,   350] loss: 0.943\n",
            "[7,   360] loss: 0.926\n",
            "[7,   370] loss: 0.999\n",
            "[7,   380] loss: 0.991\n",
            "[7,   390] loss: 0.996\n",
            "[7,   400] loss: 0.982\n",
            "[7,   410] loss: 0.966\n",
            "[7,   420] loss: 1.028\n",
            "[7,   430] loss: 1.024\n",
            "[7,   440] loss: 0.957\n",
            "[8,    10] loss: 0.869\n",
            "[8,    20] loss: 0.831\n",
            "[8,    30] loss: 0.834\n",
            "[8,    40] loss: 0.795\n",
            "[8,    50] loss: 0.818\n",
            "[8,    60] loss: 0.874\n",
            "[8,    70] loss: 0.877\n",
            "[8,    80] loss: 0.889\n",
            "[8,    90] loss: 0.859\n",
            "[8,   100] loss: 0.853\n",
            "[8,   110] loss: 0.876\n",
            "[8,   120] loss: 0.901\n",
            "[8,   130] loss: 0.869\n",
            "[8,   140] loss: 0.906\n",
            "[8,   150] loss: 0.888\n",
            "[8,   160] loss: 0.891\n",
            "[8,   170] loss: 0.917\n",
            "[8,   180] loss: 0.965\n",
            "[8,   190] loss: 0.881\n",
            "[8,   200] loss: 0.887\n",
            "[8,   210] loss: 0.901\n",
            "[8,   220] loss: 0.884\n",
            "[8,   230] loss: 0.834\n",
            "[8,   240] loss: 0.777\n",
            "[8,   250] loss: 0.836\n",
            "[8,   260] loss: 0.900\n",
            "[8,   270] loss: 0.975\n",
            "[8,   280] loss: 0.952\n",
            "[8,   290] loss: 0.915\n",
            "[8,   300] loss: 0.863\n",
            "[8,   310] loss: 0.841\n",
            "[8,   320] loss: 0.952\n",
            "[8,   330] loss: 0.922\n",
            "[8,   340] loss: 0.909\n",
            "[8,   350] loss: 0.946\n",
            "[8,   360] loss: 0.952\n",
            "[8,   370] loss: 0.885\n",
            "[8,   380] loss: 0.903\n",
            "[8,   390] loss: 0.898\n",
            "[8,   400] loss: 0.909\n",
            "[8,   410] loss: 0.838\n",
            "[8,   420] loss: 0.878\n",
            "[8,   430] loss: 0.848\n",
            "[8,   440] loss: 0.880\n",
            "[9,    10] loss: 0.792\n",
            "[9,    20] loss: 0.758\n",
            "[9,    30] loss: 0.783\n",
            "[9,    40] loss: 0.710\n",
            "[9,    50] loss: 0.797\n",
            "[9,    60] loss: 0.791\n",
            "[9,    70] loss: 0.808\n",
            "[9,    80] loss: 0.782\n",
            "[9,    90] loss: 0.767\n",
            "[9,   100] loss: 0.812\n",
            "[9,   110] loss: 0.740\n",
            "[9,   120] loss: 0.773\n",
            "[9,   130] loss: 0.792\n",
            "[9,   140] loss: 0.777\n",
            "[9,   150] loss: 0.794\n",
            "[9,   160] loss: 0.799\n",
            "[9,   170] loss: 0.865\n",
            "[9,   180] loss: 0.848\n",
            "[9,   190] loss: 0.847\n",
            "[9,   200] loss: 0.932\n",
            "[9,   210] loss: 0.873\n",
            "[9,   220] loss: 0.860\n",
            "[9,   230] loss: 0.786\n",
            "[9,   240] loss: 0.730\n",
            "[9,   250] loss: 0.784\n",
            "[9,   260] loss: 0.833\n",
            "[9,   270] loss: 0.874\n",
            "[9,   280] loss: 0.769\n",
            "[9,   290] loss: 0.819\n",
            "[9,   300] loss: 0.776\n",
            "[9,   310] loss: 0.773\n",
            "[9,   320] loss: 0.814\n",
            "[9,   330] loss: 0.841\n",
            "[9,   340] loss: 0.820\n",
            "[9,   350] loss: 0.794\n",
            "[9,   360] loss: 0.799\n",
            "[9,   370] loss: 0.715\n",
            "[9,   380] loss: 0.734\n",
            "[9,   390] loss: 0.831\n",
            "[9,   400] loss: 0.808\n",
            "[9,   410] loss: 0.874\n",
            "[9,   420] loss: 0.829\n",
            "[9,   430] loss: 0.709\n",
            "[9,   440] loss: 0.777\n",
            "[10,    10] loss: 0.637\n",
            "[10,    20] loss: 0.651\n",
            "[10,    30] loss: 0.661\n",
            "[10,    40] loss: 0.638\n",
            "[10,    50] loss: 0.650\n",
            "[10,    60] loss: 0.629\n",
            "[10,    70] loss: 0.661\n",
            "[10,    80] loss: 0.710\n",
            "[10,    90] loss: 0.719\n",
            "[10,   100] loss: 0.721\n",
            "[10,   110] loss: 0.714\n",
            "[10,   120] loss: 0.645\n",
            "[10,   130] loss: 0.717\n",
            "[10,   140] loss: 0.634\n",
            "[10,   150] loss: 0.800\n",
            "[10,   160] loss: 0.686\n",
            "[10,   170] loss: 0.727\n",
            "[10,   180] loss: 0.759\n",
            "[10,   190] loss: 0.779\n",
            "[10,   200] loss: 0.714\n",
            "[10,   210] loss: 0.783\n",
            "[10,   220] loss: 0.761\n",
            "[10,   230] loss: 0.703\n",
            "[10,   240] loss: 0.758\n",
            "[10,   250] loss: 0.757\n",
            "[10,   260] loss: 0.717\n",
            "[10,   270] loss: 0.702\n",
            "[10,   280] loss: 0.721\n",
            "[10,   290] loss: 0.743\n",
            "[10,   300] loss: 0.729\n",
            "[10,   310] loss: 0.727\n",
            "[10,   320] loss: 0.634\n",
            "[10,   330] loss: 0.711\n",
            "[10,   340] loss: 0.699\n",
            "[10,   350] loss: 0.719\n",
            "[10,   360] loss: 0.732\n",
            "[10,   370] loss: 0.633\n",
            "[10,   380] loss: 0.671\n",
            "[10,   390] loss: 0.752\n",
            "[10,   400] loss: 0.750\n",
            "[10,   410] loss: 0.724\n",
            "[10,   420] loss: 0.743\n",
            "[10,   430] loss: 0.722\n",
            "[10,   440] loss: 0.690\n",
            "[11,    10] loss: 0.584\n",
            "[11,    20] loss: 0.579\n",
            "[11,    30] loss: 0.553\n",
            "[11,    40] loss: 0.603\n",
            "[11,    50] loss: 0.526\n",
            "[11,    60] loss: 0.617\n",
            "[11,    70] loss: 0.604\n",
            "[11,    80] loss: 0.556\n",
            "[11,    90] loss: 0.596\n",
            "[11,   100] loss: 0.534\n",
            "[11,   110] loss: 0.561\n",
            "[11,   120] loss: 0.608\n",
            "[11,   130] loss: 0.616\n",
            "[11,   140] loss: 0.589\n",
            "[11,   150] loss: 0.589\n",
            "[11,   160] loss: 0.623\n",
            "[11,   170] loss: 0.579\n",
            "[11,   180] loss: 0.659\n",
            "[11,   190] loss: 0.617\n",
            "[11,   200] loss: 0.578\n",
            "[11,   210] loss: 0.655\n",
            "[11,   220] loss: 0.639\n",
            "[11,   230] loss: 0.615\n",
            "[11,   240] loss: 0.579\n",
            "[11,   250] loss: 0.525\n",
            "[11,   260] loss: 0.674\n",
            "[11,   270] loss: 0.669\n",
            "[11,   280] loss: 0.584\n",
            "[11,   290] loss: 0.653\n",
            "[11,   300] loss: 0.599\n",
            "[11,   310] loss: 0.647\n",
            "[11,   320] loss: 0.675\n",
            "[11,   330] loss: 0.648\n",
            "[11,   340] loss: 0.651\n",
            "[11,   350] loss: 0.688\n",
            "[11,   360] loss: 0.676\n",
            "[11,   370] loss: 0.555\n",
            "[11,   380] loss: 0.621\n",
            "[11,   390] loss: 0.620\n",
            "[11,   400] loss: 0.692\n",
            "[11,   410] loss: 0.606\n",
            "[11,   420] loss: 0.639\n",
            "[11,   430] loss: 0.605\n",
            "[11,   440] loss: 0.590\n",
            "[12,    10] loss: 0.509\n",
            "[12,    20] loss: 0.447\n",
            "[12,    30] loss: 0.505\n",
            "[12,    40] loss: 0.486\n",
            "[12,    50] loss: 0.460\n",
            "[12,    60] loss: 0.498\n",
            "[12,    70] loss: 0.474\n",
            "[12,    80] loss: 0.522\n",
            "[12,    90] loss: 0.491\n",
            "[12,   100] loss: 0.539\n",
            "[12,   110] loss: 0.521\n",
            "[12,   120] loss: 0.480\n",
            "[12,   130] loss: 0.554\n",
            "[12,   140] loss: 0.501\n",
            "[12,   150] loss: 0.523\n",
            "[12,   160] loss: 0.516\n",
            "[12,   170] loss: 0.529\n",
            "[12,   180] loss: 0.465\n",
            "[12,   190] loss: 0.484\n",
            "[12,   200] loss: 0.531\n",
            "[12,   210] loss: 0.503\n",
            "[12,   220] loss: 0.575\n",
            "[12,   230] loss: 0.517\n",
            "[12,   240] loss: 0.560\n",
            "[12,   250] loss: 0.536\n",
            "[12,   260] loss: 0.596\n",
            "[12,   270] loss: 0.546\n",
            "[12,   280] loss: 0.497\n",
            "[12,   290] loss: 0.507\n",
            "[12,   300] loss: 0.576\n",
            "[12,   310] loss: 0.543\n",
            "[12,   320] loss: 0.535\n",
            "[12,   330] loss: 0.557\n",
            "[12,   340] loss: 0.536\n",
            "[12,   350] loss: 0.582\n",
            "[12,   360] loss: 0.567\n",
            "[12,   370] loss: 0.611\n",
            "[12,   380] loss: 0.556\n",
            "[12,   390] loss: 0.564\n",
            "[12,   400] loss: 0.556\n",
            "[12,   410] loss: 0.549\n",
            "[12,   420] loss: 0.516\n",
            "[12,   430] loss: 0.568\n",
            "[12,   440] loss: 0.511\n",
            "[13,    10] loss: 0.418\n",
            "[13,    20] loss: 0.421\n",
            "[13,    30] loss: 0.457\n",
            "[13,    40] loss: 0.463\n",
            "[13,    50] loss: 0.451\n",
            "[13,    60] loss: 0.436\n",
            "[13,    70] loss: 0.438\n",
            "[13,    80] loss: 0.423\n",
            "[13,    90] loss: 0.422\n",
            "[13,   100] loss: 0.394\n",
            "[13,   110] loss: 0.412\n",
            "[13,   120] loss: 0.349\n",
            "[13,   130] loss: 0.398\n",
            "[13,   140] loss: 0.479\n",
            "[13,   150] loss: 0.461\n",
            "[13,   160] loss: 0.454\n",
            "[13,   170] loss: 0.445\n",
            "[13,   180] loss: 0.410\n",
            "[13,   190] loss: 0.432\n",
            "[13,   200] loss: 0.419\n",
            "[13,   210] loss: 0.470\n",
            "[13,   220] loss: 0.451\n",
            "[13,   230] loss: 0.431\n",
            "[13,   240] loss: 0.426\n",
            "[13,   250] loss: 0.474\n",
            "[13,   260] loss: 0.536\n",
            "[13,   270] loss: 0.468\n",
            "[13,   280] loss: 0.432\n",
            "[13,   290] loss: 0.530\n",
            "[13,   300] loss: 0.506\n",
            "[13,   310] loss: 0.421\n",
            "[13,   320] loss: 0.500\n",
            "[13,   330] loss: 0.422\n",
            "[13,   340] loss: 0.457\n",
            "[13,   350] loss: 0.515\n",
            "[13,   360] loss: 0.483\n",
            "[13,   370] loss: 0.567\n",
            "[13,   380] loss: 0.541\n",
            "[13,   390] loss: 0.461\n",
            "[13,   400] loss: 0.539\n",
            "[13,   410] loss: 0.538\n",
            "[13,   420] loss: 0.475\n",
            "[13,   430] loss: 0.532\n",
            "[13,   440] loss: 0.466\n",
            "[14,    10] loss: 0.387\n",
            "[14,    20] loss: 0.413\n",
            "[14,    30] loss: 0.352\n",
            "[14,    40] loss: 0.326\n",
            "[14,    50] loss: 0.340\n",
            "[14,    60] loss: 0.352\n",
            "[14,    70] loss: 0.356\n",
            "[14,    80] loss: 0.420\n",
            "[14,    90] loss: 0.352\n",
            "[14,   100] loss: 0.410\n",
            "[14,   110] loss: 0.390\n",
            "[14,   120] loss: 0.390\n",
            "[14,   130] loss: 0.401\n",
            "[14,   140] loss: 0.384\n",
            "[14,   150] loss: 0.363\n",
            "[14,   160] loss: 0.405\n",
            "[14,   170] loss: 0.375\n",
            "[14,   180] loss: 0.394\n",
            "[14,   190] loss: 0.381\n",
            "[14,   200] loss: 0.404\n",
            "[14,   210] loss: 0.401\n",
            "[14,   220] loss: 0.370\n",
            "[14,   230] loss: 0.382\n",
            "[14,   240] loss: 0.379\n",
            "[14,   250] loss: 0.365\n",
            "[14,   260] loss: 0.374\n",
            "[14,   270] loss: 0.381\n",
            "[14,   280] loss: 0.381\n",
            "[14,   290] loss: 0.381\n",
            "[14,   300] loss: 0.386\n",
            "[14,   310] loss: 0.414\n",
            "[14,   320] loss: 0.395\n",
            "[14,   330] loss: 0.385\n",
            "[14,   340] loss: 0.391\n",
            "[14,   350] loss: 0.374\n",
            "[14,   360] loss: 0.418\n",
            "[14,   370] loss: 0.438\n",
            "[14,   380] loss: 0.407\n",
            "[14,   390] loss: 0.365\n",
            "[14,   400] loss: 0.359\n",
            "[14,   410] loss: 0.420\n",
            "[14,   420] loss: 0.364\n",
            "[14,   430] loss: 0.374\n",
            "[14,   440] loss: 0.427\n",
            "[15,    10] loss: 0.338\n",
            "[15,    20] loss: 0.309\n",
            "[15,    30] loss: 0.327\n",
            "[15,    40] loss: 0.314\n",
            "[15,    50] loss: 0.363\n",
            "[15,    60] loss: 0.257\n",
            "[15,    70] loss: 0.347\n",
            "[15,    80] loss: 0.305\n",
            "[15,    90] loss: 0.320\n",
            "[15,   100] loss: 0.300\n",
            "[15,   110] loss: 0.302\n",
            "[15,   120] loss: 0.297\n",
            "[15,   130] loss: 0.308\n",
            "[15,   140] loss: 0.359\n",
            "[15,   150] loss: 0.334\n",
            "[15,   160] loss: 0.320\n",
            "[15,   170] loss: 0.342\n",
            "[15,   180] loss: 0.356\n",
            "[15,   190] loss: 0.353\n",
            "[15,   200] loss: 0.362\n",
            "[15,   210] loss: 0.352\n",
            "[15,   220] loss: 0.344\n",
            "[15,   230] loss: 0.363\n",
            "[15,   240] loss: 0.396\n",
            "[15,   250] loss: 0.307\n",
            "[15,   260] loss: 0.345\n",
            "[15,   270] loss: 0.327\n",
            "[15,   280] loss: 0.300\n",
            "[15,   290] loss: 0.367\n",
            "[15,   300] loss: 0.291\n",
            "[15,   310] loss: 0.371\n",
            "[15,   320] loss: 0.308\n",
            "[15,   330] loss: 0.365\n",
            "[15,   340] loss: 0.335\n",
            "[15,   350] loss: 0.305\n",
            "[15,   360] loss: 0.346\n",
            "[15,   370] loss: 0.298\n",
            "[15,   380] loss: 0.378\n",
            "[15,   390] loss: 0.348\n",
            "[15,   400] loss: 0.428\n",
            "[15,   410] loss: 0.301\n",
            "[15,   420] loss: 0.428\n",
            "[15,   430] loss: 0.450\n",
            "[15,   440] loss: 0.372\n",
            "Finished Training\n"
          ]
        }
      ]
    },
    {
      "cell_type": "markdown",
      "source": [
        "## **Loss Graph**"
      ],
      "metadata": {
        "id": "mBFg_UqAzV9-"
      }
    },
    {
      "cell_type": "code",
      "source": [
        "print(len(loss_list))\n",
        "\n",
        "trimmed_loss_list = loss_list[0::11]\n",
        "print(len(trimmed_loss_list))"
      ],
      "metadata": {
        "colab": {
          "base_uri": "https://localhost:8080/"
        },
        "id": "-JCQZtWAzbY9",
        "outputId": "3d38cbb9-06fe-49a3-d6fd-902513d4175f"
      },
      "execution_count": 26,
      "outputs": [
        {
          "output_type": "stream",
          "name": "stdout",
          "text": [
            "660\n",
            "60\n"
          ]
        }
      ]
    },
    {
      "cell_type": "code",
      "source": [
        "epoch_list = []\n",
        "for i in range(0,60):\n",
        "  epoch_list.append((i/4)+1)"
      ],
      "metadata": {
        "id": "L_2MEsUL0LIb"
      },
      "execution_count": 23,
      "outputs": []
    },
    {
      "cell_type": "code",
      "source": [
        "import matplotlib.pyplot as plt\n",
        "\n",
        "\n",
        "plt.plot(epoch_list, trimmed_loss_list)\n",
        "plt.xlabel(\"Epoch\")\n",
        "plt.ylabel(\"Loss\")\n",
        "plt.title(\"Training Loss vs. Epoch\")\n",
        "plt.grid(True)\n",
        "plt.show()"
      ],
      "metadata": {
        "colab": {
          "base_uri": "https://localhost:8080/",
          "height": 472
        },
        "id": "NXwLL7aO0YM8",
        "outputId": "f83b8682-1ce6-4d18-f1bf-76ce247b71dc"
      },
      "execution_count": 25,
      "outputs": [
        {
          "output_type": "display_data",
          "data": {
            "text/plain": [
              "<Figure size 640x480 with 1 Axes>"
            ],
            "image/png": "[encoded data removed]"
          },
          "metadata": {}
        }
      ]
    },
    {
      "cell_type": "markdown",
      "source": [
        "##**Evaluating the CNN**"
      ],
      "metadata": {
        "id": "fC_9g_zMBdUM"
      }
    },
    {
      "cell_type": "code",
      "source": [
        "# Evaluating the CNN\n",
        "dataiter = iter(testloader)\n",
        "images, labels = next(dataiter)\n",
        "images_display = images[:4]\n",
        "imshow(torchvision.utils.make_grid(images_display))\n",
        "print('GroundTruth: ', ' '.join(f'{classes[labels[j]]:5s}' for j in range(4)))\n",
        "\n",
        "# Per-class accuracy\n",
        "correct_pred = {classname: 0 for classname in classes}\n",
        "total_pred = {classname: 0 for classname in classes}\n",
        "\n",
        "with torch.no_grad():\n",
        "    for data in testloader:\n",
        "        images, labels = data\n",
        "        outputs = net(images)\n",
        "        _, predictions = torch.max(outputs, 1)\n",
        "        for label, prediction in zip(labels, predictions):\n",
        "            if label == prediction:\n",
        "                correct_pred[classes[label]] += 1\n",
        "            total_pred[classes[label]] += 1\n",
        "\n",
        "for classname, correct_count in correct_pred.items():\n",
        "    accuracy = 100 * float(correct_count) / total_pred[classname]\n",
        "    print(f'Accuracy for class: {classname:5s} is {accuracy:.1f} %')"
      ],
      "metadata": {
        "colab": {
          "base_uri": "https://localhost:8080/",
          "height": 328
        },
        "id": "CquQFj7Z9gHG",
        "outputId": "1f563387-1c9c-434b-cc9a-4b9c32c7b284"
      },
      "execution_count": 14,
      "outputs": [
        {
          "output_type": "display_data",
          "data": {
            "text/plain": [
              "<Figure size 640x480 with 1 Axes>"
            ],
            "image/png": "[encoded data removed]"
          },
          "metadata": {}
        },
        {
          "output_type": "stream",
          "name": "stdout",
          "text": [
            "GroundTruth:  angry angry angry angry\n",
            "Accuracy for class: angry is 46.3 %\n",
            "Accuracy for class: disgust is 14.4 %\n",
            "Accuracy for class: fear  is 34.5 %\n",
            "Accuracy for class: happy is 70.9 %\n",
            "Accuracy for class: neutral is 46.4 %\n",
            "Accuracy for class: sad   is 47.0 %\n",
            "Accuracy for class: surprise is 57.8 %\n"
          ]
        }
      ]
    },
    {
      "cell_type": "code",
      "source": [
        "outputs = net(images)"
      ],
      "metadata": {
        "id": "CZ7nV-O69lXO"
      },
      "execution_count": 15,
      "outputs": []
    },
    {
      "cell_type": "code",
      "source": [
        "_, predicted = torch.max(outputs, 1)\n",
        "print('Predicted: ', ' '.join(f'{classes[predicted[j]]:5s}' for j in range(4)))"
      ],
      "metadata": {
        "colab": {
          "base_uri": "https://localhost:8080/"
        },
        "id": "soE0pqzi9oLs",
        "outputId": "3f0448f9-a5cb-4bfc-9522-7fa34774c250"
      },
      "execution_count": 16,
      "outputs": [
        {
          "output_type": "stream",
          "name": "stdout",
          "text": [
            "Predicted:  fear  surprise surprise surprise\n"
          ]
        }
      ]
    },
    {
      "cell_type": "code",
      "source": [
        "# Accuracy\n",
        "correct = 0\n",
        "total = 0\n",
        "with torch.no_grad():\n",
        "    for data in testloader:\n",
        "        images, labels = data\n",
        "        outputs = net(images)\n",
        "        _, predicted = torch.max(outputs.data, 1)\n",
        "        total += labels.size(0)\n",
        "        correct += (predicted == labels).sum().item()\n",
        "\n",
        "print(f'Accuracy of the network on the test images: {100 * correct / total:.2f} %')"
      ],
      "metadata": {
        "colab": {
          "base_uri": "https://localhost:8080/"
        },
        "id": "WK93Spm_92sG",
        "outputId": "a23094a7-6a5a-4f56-a513-bf1bc996166b"
      },
      "execution_count": 17,
      "outputs": [
        {
          "output_type": "stream",
          "name": "stdout",
          "text": [
            "Accuracy of the network on the test images: 51.80 %\n"
          ]
        }
      ]
    },
    {
      "cell_type": "code",
      "source": [
        "# Per-class accuracy\n",
        "correct_pred = {classname: 0 for classname in classes}\n",
        "total_pred = {classname: 0 for classname in classes}\n",
        "\n",
        "with torch.no_grad():\n",
        "    for data in testloader:\n",
        "        images, labels = data\n",
        "        outputs = net(images)\n",
        "        _, predictions = torch.max(outputs, 1)\n",
        "        for label, prediction in zip(labels, predictions):\n",
        "            if label == prediction:\n",
        "                correct_pred[classes[label]] += 1\n",
        "            total_pred[classes[label]] += 1\n",
        "\n",
        "for classname, correct_count in correct_pred.items():\n",
        "    accuracy = 100 * float(correct_count) / total_pred[classname]\n",
        "    print(f'Accuracy for class: {classname:5s} is {accuracy:.1f} %')"
      ],
      "metadata": {
        "colab": {
          "base_uri": "https://localhost:8080/"
        },
        "id": "veYi0tix983b",
        "outputId": "a215b27e-b866-46bb-fa74-f67baf254ada"
      },
      "execution_count": 18,
      "outputs": [
        {
          "output_type": "stream",
          "name": "stdout",
          "text": [
            "Accuracy for class: angry is 46.7 %\n",
            "Accuracy for class: disgust is 14.4 %\n",
            "Accuracy for class: fear  is 34.8 %\n",
            "Accuracy for class: happy is 71.0 %\n",
            "Accuracy for class: neutral is 47.6 %\n",
            "Accuracy for class: sad   is 47.7 %\n",
            "Accuracy for class: surprise is 57.4 %\n"
          ]
        }
      ]
    }
  ]
}